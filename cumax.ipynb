{
 "cells": [
  {
   "cell_type": "code",
   "execution_count": 1,
   "metadata": {},
   "outputs": [
    {
     "data": {
      "text/plain": [
       "2×5 Array{Float64,2}:\n",
       " 0.250363  0.42965   0.650131  0.769314  1.0\n",
       " 0.198823  0.423972  0.639102  0.803358  1.0"
      ]
     },
     "metadata": {},
     "output_type": "display_data"
    }
   ],
   "source": [
    "function softmax(x::AbstractArray{T, N}; axis=N) where {T,N}\n",
    "    maxval = maximum(x; dims=axis)\n",
    "    exps = @. exp(x - maxval)\n",
    "    exps ./= sum(exps; dims=axis)\n",
    "end\n",
    "\n",
    "y = softmax(rand(2, 5))\n",
    "display(cumsum(y; dims=2));"
   ]
  }
 ],
 "metadata": {
  "kernelspec": {
   "display_name": "Julia 1.0.3",
   "language": "julia",
   "name": "julia-1.0"
  },
  "language_info": {
   "file_extension": ".jl",
   "mimetype": "application/julia",
   "name": "julia",
   "version": "1.0.3"
  }
 },
 "nbformat": 4,
 "nbformat_minor": 2
}
